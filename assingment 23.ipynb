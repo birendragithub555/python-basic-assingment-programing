{
 "cells": [
  {
   "cell_type": "markdown",
   "id": "081db231",
   "metadata": {},
   "source": [
    "Create a function that takes a number as an argument and returns True or False depending\n",
    "on whether the number is symmetrical or not. A number is symmetrical when it is the same as\n",
    "its reverse."
   ]
  },
  {
   "cell_type": "code",
   "execution_count": 1,
   "id": "815faca5",
   "metadata": {},
   "outputs": [
    {
     "name": "stderr",
     "output_type": "stream",
     "text": [
      "2021-06-13 16:45:15,449 logging started\n"
     ]
    }
   ],
   "source": [
    "import logging as lg\n",
    "lg.basicConfig(filename=\"database.log\",level=lg.INFO,format='%(asctime)s %(message)s')\n",
    "#logger console creation\n",
    "console_log=lg.StreamHandler()\n",
    "console_log.setLevel(lg.DEBUG)\n",
    "format=lg.Formatter('%(asctime)s %(message)s')\n",
    "console_log.setFormatter(format)\n",
    "#push into logger\n",
    "lg.getLogger('').addHandler(console_log)\n",
    "lg.info('logging started')"
   ]
  },
  {
   "cell_type": "code",
   "execution_count": 4,
   "id": "dfd1fd59",
   "metadata": {},
   "outputs": [],
   "source": [
    "def symmetric(a):\n",
    "    int_to_str=str(a)\n",
    "    count=0\n",
    "    length=len(int_to_str)\n",
    "    for i in range(len(int_to_str)):\n",
    "        if int_to_str[i]==int_to_str[length-i-1]:\n",
    "            count=1\n",
    "            continue\n",
    "        else:count=0\n",
    "    if count==1:\n",
    "        lg.info(\"its symmteric\")\n",
    "        return True  \n",
    "    else:\n",
    "        lg.info(\"its not symmteric\")\n",
    "        return False      "
   ]
  },
  {
   "cell_type": "code",
   "execution_count": 5,
   "id": "f41961a9",
   "metadata": {},
   "outputs": [
    {
     "name": "stderr",
     "output_type": "stream",
     "text": [
      "2021-06-13 16:46:31,424 its symmteric\n"
     ]
    },
    {
     "data": {
      "text/plain": [
       "True"
      ]
     },
     "execution_count": 5,
     "metadata": {},
     "output_type": "execute_result"
    }
   ],
   "source": [
    "symmetric((11211))"
   ]
  },
  {
   "cell_type": "markdown",
   "id": "9249af66",
   "metadata": {},
   "source": [
    "Given a string of numbers separated by a comma and space, return the product of the\n",
    "numbers."
   ]
  },
  {
   "cell_type": "code",
   "execution_count": 28,
   "id": "c8dafd3d",
   "metadata": {},
   "outputs": [],
   "source": [
    "def product(a):\n",
    "    a=str(a).replace(\" \",\"\").replace(\"'\",\"\").replace(\",\",\"\")\n",
    "    product=1\n",
    "    for i in a:\n",
    "        product=product*int(i)\n",
    "    lg.info(product)\n",
    "    return product"
   ]
  },
  {
   "cell_type": "code",
   "execution_count": 29,
   "id": "313675fc",
   "metadata": {},
   "outputs": [
    {
     "name": "stderr",
     "output_type": "stream",
     "text": [
      "2021-06-13 16:55:06,745 48\n"
     ]
    },
    {
     "data": {
      "text/plain": [
       "48"
      ]
     },
     "execution_count": 29,
     "metadata": {},
     "output_type": "execute_result"
    }
   ],
   "source": [
    "product(\"1, 2, 4, 6\")"
   ]
  },
  {
   "cell_type": "markdown",
   "id": "890dd351",
   "metadata": {},
   "source": [
    "Create a function that squares every digit of a number."
   ]
  },
  {
   "cell_type": "code",
   "execution_count": 66,
   "id": "673b4584",
   "metadata": {},
   "outputs": [],
   "source": [
    "def square(a):\n",
    "    number=str()\n",
    "    int_to_str=str(a)\n",
    "    length=len(int_to_str)\n",
    "    for i in range(length):\n",
    "        number=number+str(int(a[i])**2)\n",
    "    lg.info(\"the sqaure of each number\"+\" \"+str(number))\n",
    "    return int(number)\n",
    "        "
   ]
  },
  {
   "cell_type": "code",
   "execution_count": 67,
   "id": "41d6656c",
   "metadata": {},
   "outputs": [
    {
     "name": "stderr",
     "output_type": "stream",
     "text": [
      "2021-06-13 17:09:14,377 the sqaure of each number 149\n"
     ]
    },
    {
     "data": {
      "text/plain": [
       "149"
      ]
     },
     "execution_count": 67,
     "metadata": {},
     "output_type": "execute_result"
    }
   ],
   "source": [
    "square('123')"
   ]
  },
  {
   "cell_type": "markdown",
   "id": "9aa60406",
   "metadata": {},
   "source": [
    "Create a function that sorts a list and removes all duplicate items from it."
   ]
  },
  {
   "cell_type": "code",
   "execution_count": 76,
   "id": "79dd718a",
   "metadata": {},
   "outputs": [],
   "source": [
    "def sort_remove(a):\n",
    "    empty=[]\n",
    "    if type(a)!=list:\n",
    "        lg.error(\"please enter list\")\n",
    "        return \"please enter list\"\n",
    "    else:\n",
    "        new=sorted(a)\n",
    "        print(new)\n",
    "        for i in new:\n",
    "            if i in empty:\n",
    "                continue\n",
    "            else:empty.append(i)\n",
    "        lg.info(empty)\n",
    "    return empty     "
   ]
  },
  {
   "cell_type": "code",
   "execution_count": 77,
   "id": "b7d334c0",
   "metadata": {},
   "outputs": [
    {
     "name": "stderr",
     "output_type": "stream",
     "text": [
      "2021-06-13 17:14:47,004 [1, 2, 3, 5, 10, 11]\n"
     ]
    },
    {
     "name": "stdout",
     "output_type": "stream",
     "text": [
      "[1, 2, 3, 5, 5, 10, 11, 11]\n"
     ]
    },
    {
     "data": {
      "text/plain": [
       "[1, 2, 3, 5, 10, 11]"
      ]
     },
     "execution_count": 77,
     "metadata": {},
     "output_type": "execute_result"
    }
   ],
   "source": [
    "sort_remove([1, 2, 3, 11, 11, 5, 5, 10])"
   ]
  },
  {
   "cell_type": "markdown",
   "id": "3b12714c",
   "metadata": {},
   "source": [
    "Create a function that returns the mean of all digits."
   ]
  },
  {
   "cell_type": "code",
   "execution_count": 84,
   "id": "4f73d6e9",
   "metadata": {},
   "outputs": [],
   "source": [
    "def mean(a):\n",
    "    sum=0\n",
    "    string=str(a)\n",
    "    for i in string:\n",
    "        sum=sum+int(i)\n",
    "    mean=float(sum/len(string))\n",
    "    lg.info(mean)\n",
    "    return mean"
   ]
  },
  {
   "cell_type": "code",
   "execution_count": 85,
   "id": "fec7de00",
   "metadata": {},
   "outputs": [
    {
     "name": "stderr",
     "output_type": "stream",
     "text": [
      "2021-06-13 17:22:28,588 3.0\n"
     ]
    },
    {
     "data": {
      "text/plain": [
       "3.0"
      ]
     },
     "execution_count": 85,
     "metadata": {},
     "output_type": "execute_result"
    }
   ],
   "source": [
    "mean(42)"
   ]
  },
  {
   "cell_type": "code",
   "execution_count": null,
   "id": "afe5366f",
   "metadata": {},
   "outputs": [],
   "source": []
  }
 ],
 "metadata": {
  "kernelspec": {
   "display_name": "Python 3",
   "language": "python",
   "name": "python3"
  },
  "language_info": {
   "codemirror_mode": {
    "name": "ipython",
    "version": 3
   },
   "file_extension": ".py",
   "mimetype": "text/x-python",
   "name": "python",
   "nbconvert_exporter": "python",
   "pygments_lexer": "ipython3",
   "version": "3.8.8"
  }
 },
 "nbformat": 4,
 "nbformat_minor": 5
}
