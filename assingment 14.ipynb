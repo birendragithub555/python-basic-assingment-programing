{
 "cells": [
  {
   "cell_type": "markdown",
   "id": "1a4a3b4c",
   "metadata": {},
   "source": [
    "Define a class with a generator which can iterate the numbers, which are divisible by\n",
    "7, between a given range 0 and n."
   ]
  },
  {
   "cell_type": "code",
   "execution_count": 11,
   "id": "8c7431e4",
   "metadata": {},
   "outputs": [],
   "source": [
    "class div:\n",
    "    def __init__(self,n):\n",
    "        self.n=n\n",
    "    def genrator(self):\n",
    "        for i in range(self.n):\n",
    "            if i%7==0:\n",
    "                yield i"
   ]
  },
  {
   "cell_type": "code",
   "execution_count": 12,
   "id": "9259fbd8",
   "metadata": {},
   "outputs": [],
   "source": [
    "number=div(100)"
   ]
  },
  {
   "cell_type": "code",
   "execution_count": 14,
   "id": "0eb17f97",
   "metadata": {},
   "outputs": [
    {
     "name": "stdout",
     "output_type": "stream",
     "text": [
      "0\n",
      "7\n",
      "14\n",
      "21\n",
      "28\n",
      "35\n",
      "42\n",
      "49\n",
      "56\n",
      "63\n",
      "70\n",
      "77\n",
      "84\n",
      "91\n",
      "98\n"
     ]
    }
   ],
   "source": [
    "for i in number.genrator():\n",
    "    print(i)"
   ]
  },
  {
   "cell_type": "code",
   "execution_count": 15,
   "id": "b74f4100",
   "metadata": {},
   "outputs": [],
   "source": [
    "c=[1,2,6,7,\"abc\",\"dbc\",\"bvy\"]"
   ]
  },
  {
   "cell_type": "markdown",
   "id": "2dec55a6",
   "metadata": {},
   "source": [
    "Write a program to compute the frequency of the words from the input. The output\n",
    "should output after sorting the key alphanumerically.\n",
    "Suppose the following input is supplied to the program:\n",
    "New to Python or choosing between Python 2 and Python 3? Read Python 2 or\n",
    "Python 3."
   ]
  },
  {
   "cell_type": "code",
   "execution_count": 96,
   "id": "c597de1d",
   "metadata": {},
   "outputs": [],
   "source": [
    "def count_words(words):\n",
    "    array=[]\n",
    "    empty={}\n",
    "    split=words.split(\" \")\n",
    "    sorting=sorted(split)\n",
    "    unique=set(sorting)\n",
    "    for i in unique:\n",
    "        empty[i]=sorting.count(i)\n",
    "    listed=list(sorted(empty.items()))\n",
    "    for i in listed:\n",
    "        array.append(str(i).replace(\"(\",\"\").replace(\")\",\"\").replace(\",\",\":\"))\n",
    "    for i in array:\n",
    "        print(i)"
   ]
  },
  {
   "cell_type": "code",
   "execution_count": 97,
   "id": "d0bd255c",
   "metadata": {},
   "outputs": [
    {
     "name": "stdout",
     "output_type": "stream",
     "text": [
      "'2': 2\n",
      "'3.': 1\n",
      "'3?': 1\n",
      "'New': 1\n",
      "'Python': 5\n",
      "'Read': 1\n",
      "'and': 1\n",
      "'between': 1\n",
      "'choosing': 1\n",
      "'or': 2\n",
      "'to': 1\n"
     ]
    }
   ],
   "source": [
    "count_words(\"New to Python or choosing between Python 2 and Python 3? Read Python 2 or Python 3.\")"
   ]
  },
  {
   "cell_type": "markdown",
   "id": "a0c22ec3",
   "metadata": {},
   "source": [
    "Define a class Person and its two child classes: Male and Female. All classes have a\n",
    "method &quot;getGender&quot; which can print &quot;Male&quot; for Male class and &quot;Female&quot; for Female\n",
    "class."
   ]
  },
  {
   "cell_type": "code",
   "execution_count": 108,
   "id": "f729941d",
   "metadata": {},
   "outputs": [],
   "source": [
    "class person():\n",
    "    def __init__(self):\n",
    "        pass\n",
    "class male(person):\n",
    "    def getgender(self):\n",
    "        return \"male\"\n",
    "class female(person):\n",
    "    def getgender(self):\n",
    "        return \"female\""
   ]
  },
  {
   "cell_type": "code",
   "execution_count": 112,
   "id": "336d3ada",
   "metadata": {},
   "outputs": [],
   "source": [
    "human=person()\n",
    "human1=male()\n",
    "human2=female()"
   ]
  },
  {
   "cell_type": "code",
   "execution_count": 111,
   "id": "554ea07a",
   "metadata": {},
   "outputs": [
    {
     "data": {
      "text/plain": [
       "'male'"
      ]
     },
     "execution_count": 111,
     "metadata": {},
     "output_type": "execute_result"
    }
   ],
   "source": [
    "human1.getgender()"
   ]
  },
  {
   "cell_type": "code",
   "execution_count": 105,
   "id": "0b3f4953",
   "metadata": {},
   "outputs": [
    {
     "data": {
      "text/plain": [
       "'male'"
      ]
     },
     "execution_count": 105,
     "metadata": {},
     "output_type": "execute_result"
    }
   ],
   "source": [
    "human1.getgender()"
   ]
  },
  {
   "cell_type": "code",
   "execution_count": 113,
   "id": "e2b3757f",
   "metadata": {},
   "outputs": [
    {
     "data": {
      "text/plain": [
       "'female'"
      ]
     },
     "execution_count": 113,
     "metadata": {},
     "output_type": "execute_result"
    }
   ],
   "source": [
    "human2.getgender()"
   ]
  },
  {
   "cell_type": "markdown",
   "id": "6b91d81a",
   "metadata": {},
   "source": [
    "Please write a program to generate all sentences where subject is in [&quot;I&quot;, &quot;You&quot;] and\n",
    "verb is in [&quot;Play&quot;, &quot;Love&quot;] and the object is in [&quot;Hockey&quot;,&quot;Football&quot;]."
   ]
  },
  {
   "cell_type": "code",
   "execution_count": 115,
   "id": "daa2ee0c",
   "metadata": {},
   "outputs": [
    {
     "name": "stdout",
     "output_type": "stream",
     "text": [
      "I PLAY HOCKEY\n",
      "I PLAY FOOTBALL\n",
      "I LOVE HOCKEY\n",
      "I LOVE FOOTBALL\n",
      "YOU PLAY HOCKEY\n",
      "YOU PLAY FOOTBALL\n",
      "YOU LOVE HOCKEY\n",
      "YOU LOVE FOOTBALL\n"
     ]
    }
   ],
   "source": [
    "subject=[\"I\",\"YOU\"]\n",
    "verb=[\"PLAY\",\"LOVE\"]\n",
    "object1=[\"HOCKEY\",\"FOOTBALL\"]\n",
    "\n",
    "for i in subject:\n",
    "    for j in verb:\n",
    "        for k in object1:\n",
    "            print(i+\" \"+j+\" \"+k)"
   ]
  },
  {
   "cell_type": "markdown",
   "id": "7ebbc243",
   "metadata": {},
   "source": [
    "Please write a program to compress and decompress the string &quot;hello world!hello world!hello world!hello world!&quot;."
   ]
  },
  {
   "cell_type": "code",
   "execution_count": 116,
   "id": "f651bd48",
   "metadata": {},
   "outputs": [],
   "source": [
    "import zlib"
   ]
  },
  {
   "cell_type": "code",
   "execution_count": 120,
   "id": "28a01518",
   "metadata": {},
   "outputs": [
    {
     "name": "stdout",
     "output_type": "stream",
     "text": [
      "compress b'x\\x9c\\xcbH\\xcd\\xc9\\xc9W(\\xcf/\\xcaIQ\\xcc \\x82\\xad\\x08\\x00\\xcfq\\x12\\x16'\n",
      "decompress b'hello world!hello world!hello world!hello world!!'\n"
     ]
    }
   ],
   "source": [
    "test=b\"hello world!hello world!hello world!hello world!!\"\n",
    "compress=zlib.compress(test)\n",
    "print(\"compress\",compress)\n",
    "decompress=zlib.decompress(compress)\n",
    "print(\"decompress\",decompress)"
   ]
  },
  {
   "cell_type": "code",
   "execution_count": 125,
   "id": "d5bfcf21",
   "metadata": {},
   "outputs": [
    {
     "data": {
      "text/plain": [
       "9"
      ]
     },
     "execution_count": 125,
     "metadata": {},
     "output_type": "execute_result"
    }
   ],
   "source": [
    "18//2"
   ]
  },
  {
   "cell_type": "markdown",
   "id": "d40bec16",
   "metadata": {},
   "source": [
    "Please write a binary search function which searches an item in a sorted list. The\n",
    "function should return the index of element to be searched in the list."
   ]
  },
  {
   "cell_type": "code",
   "execution_count": 157,
   "id": "f3d9ef29",
   "metadata": {},
   "outputs": [],
   "source": [
    "def binary_search(arr,l_in,u_in,x):\n",
    "    arr=sorted(arr)\n",
    "    mid=int((l_in+u_in)/2)\n",
    "    print(mid)\n",
    "    print(\"im mid value\"+\" \"+str(arr[mid]))\n",
    "    if arr[mid]==x:\n",
    "        return \"values is located at:\"+\" \"+str(mid)\n",
    "    elif arr[mid]>x:\n",
    "        print(\"mid is higher\"+str(arr[mid]))\n",
    "        print(arr[l_in:mid+1])\n",
    "        return binary_search(arr,l_in,mid,x)\n",
    "    elif arr[mid]<x:\n",
    "        print(\"mid is lower\"+str(arr[mid]))\n",
    "        print(arr[mid:u_in])\n",
    "        print(\"im u_in\"+\" \"+str(u_in))\n",
    "        return binary_search(arr,mid,u_in,x)\n",
    "    else:\n",
    "        return \"item not present\" "
   ]
  },
  {
   "cell_type": "code",
   "execution_count": 158,
   "id": "8083e9a7",
   "metadata": {},
   "outputs": [
    {
     "name": "stdout",
     "output_type": "stream",
     "text": [
      "4\n",
      "im mid value 8\n",
      "mid is lower8\n",
      "[8, 10, 23, 45]\n",
      "im u_in 8\n",
      "6\n",
      "im mid value 23\n",
      "mid is lower23\n",
      "[23, 45]\n",
      "im u_in 8\n",
      "7\n",
      "im mid value 45\n"
     ]
    },
    {
     "data": {
      "text/plain": [
       "'values is located at: 7'"
      ]
     },
     "execution_count": 158,
     "metadata": {},
     "output_type": "execute_result"
    }
   ],
   "source": [
    "array=[2,4,3,7,8,10,45,23]\n",
    "binary_search(array,0,len(array),45)"
   ]
  },
  {
   "cell_type": "code",
   "execution_count": null,
   "id": "9f9600d2",
   "metadata": {},
   "outputs": [],
   "source": []
  },
  {
   "cell_type": "code",
   "execution_count": null,
   "id": "59e1ea75",
   "metadata": {},
   "outputs": [],
   "source": []
  }
 ],
 "metadata": {
  "kernelspec": {
   "display_name": "Python 3",
   "language": "python",
   "name": "python3"
  },
  "language_info": {
   "codemirror_mode": {
    "name": "ipython",
    "version": 3
   },
   "file_extension": ".py",
   "mimetype": "text/x-python",
   "name": "python",
   "nbconvert_exporter": "python",
   "pygments_lexer": "ipython3",
   "version": "3.8.8"
  }
 },
 "nbformat": 4,
 "nbformat_minor": 5
}
