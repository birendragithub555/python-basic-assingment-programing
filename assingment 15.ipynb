{
 "cells": [
  {
   "cell_type": "markdown",
   "id": "d857549e",
   "metadata": {},
   "source": [
    "Please write a program using generator to print the numbers which can be divisible by 5 and\n",
    "7 between 0 and n in comma separated form while n is input by console."
   ]
  },
  {
   "cell_type": "code",
   "execution_count": 75,
   "id": "7c250f27",
   "metadata": {},
   "outputs": [],
   "source": [
    "def gen(n):\n",
    "    for i in range(n+1):\n",
    "        if i%5 == 0 and i%7 == 0:\n",
    "            yield str(i)"
   ]
  },
  {
   "cell_type": "code",
   "execution_count": 76,
   "id": "daa1569a",
   "metadata": {},
   "outputs": [
    {
     "name": "stdout",
     "output_type": "stream",
     "text": [
      "0,35,70\n"
     ]
    }
   ],
   "source": [
    "n=gen(100)\n",
    "values=[]\n",
    "for i in n:\n",
    "    values.append(i)\n",
    "print(\",\".join(values))"
   ]
  },
  {
   "cell_type": "markdown",
   "id": "46847d6c",
   "metadata": {},
   "source": [
    "Please write a program using generator to print the even numbers between 0 and n in comma\n",
    "separated form while n is input by console."
   ]
  },
  {
   "cell_type": "code",
   "execution_count": 83,
   "id": "783f07f2",
   "metadata": {},
   "outputs": [
    {
     "name": "stdout",
     "output_type": "stream",
     "text": [
      "0,2,4,6,8,10\n"
     ]
    }
   ],
   "source": [
    "def even(n):\n",
    "    for i in range(n+1):\n",
    "        if i%2==0:\n",
    "            yield str(i)\n",
    "\n",
    "number=even(10)\n",
    "values1=[]\n",
    "for i in number:\n",
    "    values1.append(i)\n",
    "print(\",\".join(values1))"
   ]
  },
  {
   "cell_type": "markdown",
   "id": "c14fe8e9",
   "metadata": {},
   "source": [
    "Please write a program using list comprehension to print the Fibonacci Sequence in comma\n",
    "separated form with a given n input by console."
   ]
  },
  {
   "cell_type": "code",
   "execution_count": 29,
   "id": "6d24e828",
   "metadata": {},
   "outputs": [],
   "source": [
    "def fibbo(n):\n",
    "    temp=[]\n",
    "    temp.append(1)\n",
    "    temp.append(1)\n",
    "    [temp.append(temp[i-2]+temp[i-1]) for i in range(2,n)]\n",
    "    value=\",\".join(map(str,temp))\n",
    "    return value"
   ]
  },
  {
   "cell_type": "code",
   "execution_count": 30,
   "id": "f913e850",
   "metadata": {},
   "outputs": [
    {
     "data": {
      "text/plain": [
       "'1,1,2,3,5,8,13'"
      ]
     },
     "execution_count": 30,
     "metadata": {},
     "output_type": "execute_result"
    }
   ],
   "source": [
    "fibbo(7)"
   ]
  },
  {
   "cell_type": "markdown",
   "id": "93827757",
   "metadata": {},
   "source": [
    "Assuming that we have some email addresses in the &quot;username@companyname.com&quot; format,\n",
    "please write program to print the user name of a given email address. Both user names and\n",
    "company names are composed of letters only."
   ]
  },
  {
   "cell_type": "code",
   "execution_count": 36,
   "id": "6dd1bd9e",
   "metadata": {
    "scrolled": true
   },
   "outputs": [],
   "source": [
    "def word(email):\n",
    "    email1=email.split(\"@\")\n",
    "    for i in email1:\n",
    "        email2=i.split(\".\")\n",
    "    if type(email1[0])!=str and type(email2[0])!=str:\n",
    "        return \"enter valid email\"\n",
    "    else:return email1[0]  "
   ]
  },
  {
   "cell_type": "code",
   "execution_count": 38,
   "id": "2db281f5",
   "metadata": {},
   "outputs": [
    {
     "data": {
      "text/plain": [
       "'john'"
      ]
     },
     "execution_count": 38,
     "metadata": {},
     "output_type": "execute_result"
    }
   ],
   "source": [
    "word('john@hpcl.com')"
   ]
  },
  {
   "cell_type": "markdown",
   "id": "372c5591",
   "metadata": {},
   "source": [
    "Define a class named Shape and its subclass Square. The Square class has an init function\n",
    "which takes a length as argument. Both classes have a area function which can print the area\n",
    "of the shape where Shape&#39;s area is 0 by default."
   ]
  },
  {
   "cell_type": "code",
   "execution_count": 46,
   "id": "81c5da3d",
   "metadata": {},
   "outputs": [],
   "source": [
    "class shape(object):\n",
    "    def __init__(self):\n",
    "        pass\n",
    "    def area(self):\n",
    "        return 0      #by default area\n",
    "class square(shape):\n",
    "    def __init__(self,length):\n",
    "        shape.__init__(self)\n",
    "        self.length=length\n",
    "    def area(self):\n",
    "        area_1=self.length**2\n",
    "        return area_1"
   ]
  },
  {
   "cell_type": "code",
   "execution_count": 48,
   "id": "cb7cfa54",
   "metadata": {},
   "outputs": [],
   "source": [
    "sq=square(4)\n"
   ]
  },
  {
   "cell_type": "code",
   "execution_count": 51,
   "id": "ffa5e8fc",
   "metadata": {},
   "outputs": [
    {
     "data": {
      "text/plain": [
       "16"
      ]
     },
     "execution_count": 51,
     "metadata": {},
     "output_type": "execute_result"
    }
   ],
   "source": [
    "sq.area()"
   ]
  },
  {
   "cell_type": "code",
   "execution_count": 53,
   "id": "76a642f6",
   "metadata": {},
   "outputs": [
    {
     "data": {
      "text/plain": [
       "0"
      ]
     },
     "execution_count": 53,
     "metadata": {},
     "output_type": "execute_result"
    }
   ],
   "source": [
    "shape().area()"
   ]
  },
  {
   "cell_type": "code",
   "execution_count": null,
   "id": "86972dc5",
   "metadata": {},
   "outputs": [],
   "source": []
  },
  {
   "cell_type": "code",
   "execution_count": null,
   "id": "bed3821d",
   "metadata": {},
   "outputs": [],
   "source": []
  },
  {
   "cell_type": "code",
   "execution_count": null,
   "id": "f27db0db",
   "metadata": {},
   "outputs": [],
   "source": []
  },
  {
   "cell_type": "code",
   "execution_count": null,
   "id": "a8086d84",
   "metadata": {},
   "outputs": [],
   "source": []
  }
 ],
 "metadata": {
  "kernelspec": {
   "display_name": "Python 3",
   "language": "python",
   "name": "python3"
  },
  "language_info": {
   "codemirror_mode": {
    "name": "ipython",
    "version": 3
   },
   "file_extension": ".py",
   "mimetype": "text/x-python",
   "name": "python",
   "nbconvert_exporter": "python",
   "pygments_lexer": "ipython3",
   "version": "3.8.8"
  }
 },
 "nbformat": 4,
 "nbformat_minor": 5
}
