{
 "cells": [
  {
   "cell_type": "markdown",
   "id": "4cca1b80",
   "metadata": {},
   "source": [
    "Create a function that takes an integer and returns a list from 1 to the given number, where:\n",
    "1. If the number can be divided evenly by 4, amplify it by 10 (i.e. return 10 times the\n",
    "number).\n",
    "2. If the number cannot be divided evenly by 4, simply return the number."
   ]
  },
  {
   "cell_type": "code",
   "execution_count": 5,
   "id": "f6abec01",
   "metadata": {},
   "outputs": [],
   "source": [
    "def integer(a):\n",
    "    c=[]\n",
    "    if a<1:\n",
    "        return \"enter number should be greater than 1\"\n",
    "    else:\n",
    "        for i in range(1,a+1):\n",
    "            if i%4==0:\n",
    "                c.append(i*10)\n",
    "            else:\n",
    "                c.append(i)\n",
    "        return c              "
   ]
  },
  {
   "cell_type": "code",
   "execution_count": 8,
   "id": "8b36c35a",
   "metadata": {},
   "outputs": [
    {
     "data": {
      "text/plain": [
       "[1, 2, 3, 40, 5, 6, 7, 80, 9, 10]"
      ]
     },
     "execution_count": 8,
     "metadata": {},
     "output_type": "execute_result"
    }
   ],
   "source": [
    "integer(10)"
   ]
  },
  {
   "cell_type": "markdown",
   "id": "a1210927",
   "metadata": {},
   "source": [
    "Create a function that takes a list of numbers and return the number that&#39;s unique."
   ]
  },
  {
   "cell_type": "code",
   "execution_count": 18,
   "id": "83f125cb",
   "metadata": {},
   "outputs": [],
   "source": [
    "def count_num(a):\n",
    "    count=0\n",
    "    for i in a:\n",
    "        if a.count(i)==1:\n",
    "            return i\n",
    "            count=1\n",
    "        else:\n",
    "            count=0\n",
    "            continue\n",
    "    if count==0:\n",
    "        return \"no unique numbers\""
   ]
  },
  {
   "cell_type": "code",
   "execution_count": 20,
   "id": "5c3ff9a9",
   "metadata": {},
   "outputs": [
    {
     "data": {
      "text/plain": [
       "0.77"
      ]
     },
     "execution_count": 20,
     "metadata": {},
     "output_type": "execute_result"
    }
   ],
   "source": [
    "count_num([1,2,1,1,2,0.77])"
   ]
  },
  {
   "cell_type": "code",
   "execution_count": 27,
   "id": "4813f224",
   "metadata": {},
   "outputs": [],
   "source": [
    "class circle():\n",
    "    import math\n",
    "    def __init__(self,radius):\n",
    "        self.radius=radius\n",
    "    def area(self):\n",
    "        area=(math.pi*self.radius**2)\n",
    "        return area\n",
    "    def perimeter(self):\n",
    "        perimeter=(2*math.pi*self.radius)\n",
    "        return perimeter"
   ]
  },
  {
   "cell_type": "code",
   "execution_count": 28,
   "id": "6c5556a5",
   "metadata": {},
   "outputs": [],
   "source": [
    "circy=circle(11)"
   ]
  },
  {
   "cell_type": "code",
   "execution_count": 29,
   "id": "1c14e9a6",
   "metadata": {},
   "outputs": [
    {
     "data": {
      "text/plain": [
       "380.132711084365"
      ]
     },
     "execution_count": 29,
     "metadata": {},
     "output_type": "execute_result"
    }
   ],
   "source": [
    "circy.area()"
   ]
  },
  {
   "cell_type": "code",
   "execution_count": 30,
   "id": "68f4e9f1",
   "metadata": {},
   "outputs": [
    {
     "data": {
      "text/plain": [
       "69.11503837897544"
      ]
     },
     "execution_count": 30,
     "metadata": {},
     "output_type": "execute_result"
    }
   ],
   "source": [
    "circy.perimeter()"
   ]
  },
  {
   "cell_type": "code",
   "execution_count": 31,
   "id": "53ceb050",
   "metadata": {},
   "outputs": [],
   "source": [
    "circy1=circle(4.44)"
   ]
  },
  {
   "cell_type": "code",
   "execution_count": 32,
   "id": "079d0484",
   "metadata": {},
   "outputs": [
    {
     "data": {
      "text/plain": [
       "27.897342763877365"
      ]
     },
     "execution_count": 32,
     "metadata": {},
     "output_type": "execute_result"
    }
   ],
   "source": [
    "circy1.perimeter()"
   ]
  },
  {
   "cell_type": "markdown",
   "id": "06268122",
   "metadata": {},
   "source": [
    "Create a function that takes a list of strings and return a list, sorted from shortest to longest."
   ]
  },
  {
   "cell_type": "code",
   "execution_count": 26,
   "id": "c944d7d9",
   "metadata": {},
   "outputs": [],
   "source": [
    "def arrange(a):\n",
    "    c=[]\n",
    "    d=[]\n",
    "    for i in a:\n",
    "        c.append(len(i))\n",
    "    c=sorted(c)\n",
    "    for i in c:\n",
    "        for j in range(len(a)):\n",
    "            if i==len(a[j]):\n",
    "                if a[j] in d:\n",
    "                    continue\n",
    "                else:\n",
    "                    d.append(a[j])\n",
    "    return d      "
   ]
  },
  {
   "cell_type": "code",
   "execution_count": 27,
   "id": "48c41872",
   "metadata": {},
   "outputs": [
    {
     "data": {
      "text/plain": [
       "['apple', 'biren', 'google', 'samsung', 'mirosoft']"
      ]
     },
     "execution_count": 27,
     "metadata": {},
     "output_type": "execute_result"
    }
   ],
   "source": [
    "arrange([\"google\",\"mirosoft\",\"apple\",\"samsung\",\"biren\"])"
   ]
  },
  {
   "cell_type": "markdown",
   "id": "1d62c1c6",
   "metadata": {},
   "source": [
    "Create a function that validates whether three given integers form a Pythagorean triplet. The\n",
    "sum of the squares of the two smallest integers must equal the square of the largest number to\n",
    "be validated."
   ]
  },
  {
   "cell_type": "code",
   "execution_count": 45,
   "id": "368b04ac",
   "metadata": {},
   "outputs": [],
   "source": [
    "def triplet(*args):\n",
    "    c=[]\n",
    "    for i in args:\n",
    "        c.append(i)\n",
    "    if len(c)==3:\n",
    "        c=sorted(c)\n",
    "        print(c)\n",
    "        addition=c[0]**2+c[1]**2\n",
    "        result=c[2]**2\n",
    "        if addition==result:\n",
    "            return \"its triplet\"\n",
    "        else:\n",
    "            return \"not triplet\"\n",
    "    else:\n",
    "        return \"enter 3 characters only\""
   ]
  },
  {
   "cell_type": "code",
   "execution_count": 47,
   "id": "f2ac1220",
   "metadata": {},
   "outputs": [
    {
     "name": "stdout",
     "output_type": "stream",
     "text": [
      "[5, 12, 13]\n",
      "169\n"
     ]
    },
    {
     "data": {
      "text/plain": [
       "'its triplet'"
      ]
     },
     "execution_count": 47,
     "metadata": {},
     "output_type": "execute_result"
    }
   ],
   "source": [
    "triplet(13,5,12)"
   ]
  },
  {
   "cell_type": "code",
   "execution_count": null,
   "id": "a7829857",
   "metadata": {},
   "outputs": [],
   "source": []
  },
  {
   "cell_type": "code",
   "execution_count": null,
   "id": "9fca4262",
   "metadata": {},
   "outputs": [],
   "source": []
  },
  {
   "cell_type": "code",
   "execution_count": null,
   "id": "a0906269",
   "metadata": {},
   "outputs": [],
   "source": []
  },
  {
   "cell_type": "code",
   "execution_count": null,
   "id": "23f3fb66",
   "metadata": {},
   "outputs": [],
   "source": []
  },
  {
   "cell_type": "code",
   "execution_count": null,
   "id": "cd2e1fae",
   "metadata": {},
   "outputs": [],
   "source": []
  }
 ],
 "metadata": {
  "kernelspec": {
   "display_name": "Python 3",
   "language": "python",
   "name": "python3"
  },
  "language_info": {
   "codemirror_mode": {
    "name": "ipython",
    "version": 3
   },
   "file_extension": ".py",
   "mimetype": "text/x-python",
   "name": "python",
   "nbconvert_exporter": "python",
   "pygments_lexer": "ipython3",
   "version": "3.8.8"
  }
 },
 "nbformat": 4,
 "nbformat_minor": 5
}
